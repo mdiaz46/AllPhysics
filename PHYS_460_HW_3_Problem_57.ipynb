{
 "cells": [
  {
   "cell_type": "markdown",
   "metadata": {},
   "source": [
    "# Marlon Diaz\n",
    "\n",
    "# PHYS 460 - HW 3\n",
    "\n",
    "# Problem 5.7\n",
    "\n",
    "Hint: How does light interacts with matter?\n",
    "\n",
    "- A slab of glass $\\Delta x = 0.2 m$ thick absorbs $\\textbf{50%}$ of the light passing through it. \n",
    "\n",
    "    - How thick must a slab of identical glass be in order to absorb $\\textbf{90%}$ of the light passing through it? \n",
    "\n",
    "    - How thick must it be to absorb $\\textbf{99%}$ of the light? \n",
    "\n",
    "    - How thick to absorb $\\textbf{99.9%}$ of the light?\n",
    "\n",
    "# 5.4 THE EQUATION OF RADIATIVE TRANSFER\n"
   ]
  },
  {
   "cell_type": "code",
   "execution_count": 17,
   "metadata": {},
   "outputs": [
    {
     "data": {
      "text/html": [
       "<img src=\"Figure5_9.png\" width=\"600\" height=\"600\"/>"
      ],
      "text/plain": [
       "<IPython.core.display.Image object>"
      ]
     },
     "execution_count": 17,
     "metadata": {},
     "output_type": "execute_result"
    }
   ],
   "source": [
    "# import image module\n",
    "from IPython.display import Image\n",
    "\n",
    "# get the image\n",
    "Image(url=\"Figure5_9.png\", width=600, height=600)"
   ]
  },
  {
   "cell_type": "markdown",
   "metadata": {},
   "source": [
    "We are now ready to consider how photons $\\textbf{interact}$ with matter on scales larger than the size of an atom. We begin with a simple case: photons pass through a gas in which some of the photons are absorbed by atoms. In Figure 5.9 (below), we consider light entering a medium with some intensity $I$, where the intensity specifies the number of photons passing through a unit area in a particular direction per unit time. We consider the interactions occurring in a volume element of surface area $S$ and thickness $\\Delta x$, where $\\Delta x$ is sufficiently small that the individual atoms (or other absorbing particles) within the volume do not overlap or shadow each other. The intensity of the stream of light emerging from our box of gas is $I + \\Delta I$ ; if there are no sources of light within the box, then we expect $\\Delta I ≤ 0$.\n",
    "\n",
    "It is a useful convention to express the probability that a photon will be absorbed by an absorbing particle in terms of a $\\textbf{cross-section}$ $\\sigma$ . Although the cross-section has units of area, it isn’t necessarily equal to the geometric cross-section of the absorbing particle. In fact, the cross-section is usually a strong function of wavelength if the absorption is due to atomic processes such as photoexcitation. If we assume that the volume element in Figure 5.9 has only a single absorbing particle within it, then the fraction of light lost in passing through is\n",
    "\n",
    "\n",
    "$$ \\frac{\\Delta I}{I} = - \\frac{\\sigma}{S}$$\n",
    "\n",
    "$$ \\textbf{equation 5.53}$$\n",
    "\n",
    "where the right-hand side is simply the fraction of the surface area occupied by a single particle. If there are $N$ nonoverlapping, absorbing particles within the volume element, then the fraction of light lost is $N$ times greater. The number of absorbing particles within the volume element is\n",
    "\n",
    "$$ N = nS\\Delta x$$\n",
    "\n",
    "$$ \\textbf{equation 5.54}$$\n",
    "\n",
    "where $n$ is the number density of particles. Thus, equation (5.53) becomes\n",
    "\n",
    "$$ \\frac{\\Delta I}{I} = -(nS \\Delta x) \\frac{\\sigma}{S}  = -n \\sigma \\Delta x $$\n",
    "\n",
    "$$ \\textbf{equation 5.55}$$\n",
    "\n",
    "In the limit where the volume element becomes infinitesimally thin ($\\Delta x → 0$), this becomes the simple differential equation\n",
    "\n",
    "$$ \\frac{dI}{I} = - n \\sigma dx$$\n",
    "\n",
    "$$ \\textbf{equation 5.56}$$\n",
    "\n",
    "If the number density $n$ and cross-section $\\sigma$ of absorbing particles are independent of $x$, equation (5.56) is easily integrated to yield\n",
    "\n",
    "$$ \\ln{I} = - n \\sigma x + C$$\n",
    "\n",
    "$$ \\textbf{equation 5.57}$$\n",
    "\n",
    "where $C$ is a constant of integration. If we impose the boundary condition that $I = I_{0}$ at\n",
    "$x = 0$, this equation becomes\n",
    "\n",
    "$$ I(x) = I(0)e^{-n \\sigma x}$$\n",
    "\n",
    "$$ \\textbf{equation 5.58}$$\n",
    "\n",
    "$\\textbf{Equation (5.58)}$ is the simplest form of the $ \\textbf{equation of radiative transfer}$. The only physical process going on is absorption; we see, in this case, that the light becomes attenuated exponentially as it shines through the gas.\n",
    "\n",
    "$\\textbf{Solution:}$\n",
    "\n",
    "Rearrange $\\textbf{Equation (5.58)}$ as follow:\n",
    "\n",
    "$ \\frac{I(x)}{I(0)} = e^{-n \\sigma x}$\n",
    "\n",
    "### Take the log ( $\\ln$ ) on both sides \n",
    "\n",
    "$  \\ln \\frac{I(x)}{I(0)} = \\ln e^{-n \\sigma x}$  \n",
    "\n",
    "### now solve for $x $\n",
    "\n",
    "$  \\ln ( \\frac{I}{I_{0}} ) = {-n \\sigma x}$     \n",
    "\n",
    "#### Given within the problem, thickness is 0.2 m and the glass absorbs 50 percent of the light\n",
    "\n",
    "$  x = \\frac{1}{n \\sigma} \\ln(\\frac{I_{0}}{I}) = 0.2 $m$ $  \n",
    "\n",
    "and $ \\frac{I}{I_{0}} = 0.5$\n",
    "\n",
    "then $ n \\sigma = \\frac{1}{0.2} \\ln(\\frac{1}{0.5})$\n",
    "\n",
    "#### write code to compute equation $n\\sigma$"
   ]
  },
  {
   "cell_type": "code",
   "execution_count": 22,
   "metadata": {},
   "outputs": [
    {
     "name": "stdout",
     "output_type": "stream",
     "text": [
      "3.4657359027997265\n"
     ]
    }
   ],
   "source": [
    "import numpy as np\n",
    "\n",
    "coeff = 0.5\n",
    "x = 0.2\n",
    "nsigma = (1/x) * (np.log(1/coeff))\n",
    "\n",
    "print(nsigma)"
   ]
  },
  {
   "cell_type": "markdown",
   "metadata": {},
   "source": [
    "# Section 5.4 Optical depth, page 129\n",
    "\n",
    "$\\textbf{The optical depth}$ is a measure of how much the intensity of light is attenuated by traveling through the gas; if $n$ is constant, then $ \\tau (x) = n\\sigma x$"
   ]
  },
  {
   "cell_type": "code",
   "execution_count": 27,
   "metadata": {},
   "outputs": [
    {
     "name": "stdout",
     "output_type": "stream",
     "text": [
      "t-meters =  0.6931471805599454\n"
     ]
    }
   ],
   "source": [
    "t = nsigma*x\n",
    "print('t-meters = ', t)"
   ]
  },
  {
   "cell_type": "markdown",
   "metadata": {},
   "source": [
    "- How thick must a slab of identical glass be in order to absorb $\\textbf{90%}$ of the light passing through it? \n",
    "\n",
    "if and $ \\frac{I}{I_{0}} = 0.5$ for the above, then for this use case, compute $ \\frac{I}{I_{0}} = 1 - 0.9 = 0.1$\n",
    "\n",
    "# write code for equation and compute $  x = \\frac{1}{n \\sigma} \\ln(\\frac{I_{0}}{I}) $  "
   ]
  },
  {
   "cell_type": "code",
   "execution_count": 28,
   "metadata": {},
   "outputs": [
    {
     "name": "stdout",
     "output_type": "stream",
     "text": [
      "x in meters 0.6643856189774725\n"
     ]
    }
   ],
   "source": [
    "# nsigma from above\n",
    "# set variable for I/I0 =0.1 as coeff2\n",
    "# compute thickness of slab (x)\n",
    "\n",
    "coeff2 = 0.1\n",
    "\n",
    "x1 = (1/nsigma)*np.log(1/coeff2)\n",
    "\n",
    "print('x in meters', x1)"
   ]
  },
  {
   "cell_type": "markdown",
   "metadata": {},
   "source": [
    "# to absorb 90 % of light the slab should be about 0.70 meters thick."
   ]
  },
  {
   "cell_type": "markdown",
   "metadata": {},
   "source": [
    "- How thick must it be to absorb $\\textbf{99%}$ of the light? \n",
    "\n",
    "or this use case, compute $ \\frac{I}{I_{0}} = 1 - 0.99 = 0.01$"
   ]
  },
  {
   "cell_type": "code",
   "execution_count": 29,
   "metadata": {},
   "outputs": [
    {
     "name": "stdout",
     "output_type": "stream",
     "text": [
      "x in meters 1.328771237954945\n"
     ]
    }
   ],
   "source": [
    "# nsigma from above\n",
    "# set variable for I/I0 =0.1 as coeff2\n",
    "# compute thickness of slab (x)\n",
    "\n",
    "coeff3 = 0.01\n",
    "\n",
    "x2 = (1/nsigma)*np.log(1/coeff3)\n",
    "\n",
    "print('x in meters', x2)"
   ]
  },
  {
   "cell_type": "markdown",
   "metadata": {},
   "source": [
    "# to absorb 99 % of light the slab should be about 1.3 meters thick."
   ]
  },
  {
   "cell_type": "markdown",
   "metadata": {},
   "source": [
    "- How thick must it be to absorb $\\textbf{99%}$ of the light? \n",
    "\n",
    "or this use case, compute $ \\frac{I}{I_{0}} = 1 - 0.99 = 0.001$"
   ]
  },
  {
   "cell_type": "code",
   "execution_count": 30,
   "metadata": {},
   "outputs": [
    {
     "name": "stdout",
     "output_type": "stream",
     "text": [
      "x in meters 1.9931568569324172\n"
     ]
    }
   ],
   "source": [
    "# nsigma from above\n",
    "# set variable for I/I0 =0.1 as coeff2\n",
    "# compute thickness of slab (x)\n",
    "\n",
    "coeff4 = 0.001\n",
    "\n",
    "x3 = (1/nsigma)*np.log(1/coeff4)\n",
    "\n",
    "print('x in meters', x3)"
   ]
  },
  {
   "cell_type": "markdown",
   "metadata": {},
   "source": [
    "# to absorb 99.9 % of light the slab should be about 2 meters thick!\n",
    "\n",
    "# end of homework 3, Diaz."
   ]
  },
  {
   "cell_type": "code",
   "execution_count": null,
   "metadata": {},
   "outputs": [],
   "source": []
  }
 ],
 "metadata": {
  "kernelspec": {
   "display_name": "Python 3",
   "language": "python",
   "name": "python3"
  },
  "language_info": {
   "codemirror_mode": {
    "name": "ipython",
    "version": 3
   },
   "file_extension": ".py",
   "mimetype": "text/x-python",
   "name": "python",
   "nbconvert_exporter": "python",
   "pygments_lexer": "ipython3",
   "version": "3.6.8"
  }
 },
 "nbformat": 4,
 "nbformat_minor": 4
}
