{
  "nbformat": 4,
  "nbformat_minor": 0,
  "metadata": {
    "colab": {
      "provenance": [],
      "authorship_tag": "ABX9TyO1cmtYNFZDmk1T7z4XT9YH",
      "include_colab_link": true
    },
    "kernelspec": {
      "name": "python3",
      "display_name": "Python 3"
    },
    "language_info": {
      "name": "python"
    }
  },
  "cells": [
    {
      "cell_type": "markdown",
      "metadata": {
        "id": "view-in-github",
        "colab_type": "text"
      },
      "source": [
        "<a href=\"https://colab.research.google.com/github/mdiaz46/AllPhysics/blob/main/Excitation_Probability.ipynb\" target=\"_parent\"><img src=\"https://colab.research.google.com/assets/colab-badge.svg\" alt=\"Open In Colab\"/></a>"
      ]
    },
    {
      "cell_type": "markdown",
      "source": [
        "# The Interaction of Atoms With Light\n",
        "## by Marlon Diaz 06/12/2024\n",
        "\n",
        "# Introduction\n",
        "\n",
        "It is said that for anything 'to happen' requires interactions with charges and currents so that photons can be absorbed, emitted or scattered. A complete description of the interactions of atoms with light is quite lengthy and complicated. To describe the interaction of a two-level atom with radiation I shall use a $\\textit{semiclassical}$ treatment, i.e. the radiation is treated as a classical electric field but we use quantum mechanics to treat the atom. I will, in this notebook, calculate the effect of an oscillating electric field on the atom from first principles and show that this equivalent to the usual time-dependent pertubation theory (TDPT).\n",
        "\n",
        "# Time-Dependent Perturbation Theory\n",
        "\n",
        "## Pertubation by an oscillating electric field (Transitions)\n",
        "\n",
        "To keep it short, this math theory addresses the following: You have one unperturbed system in an eigenstate, and then the perturbation is \"turned on\", what is the probability that transition to another eigenstate occurs?\n",
        "\n",
        "Now the physics of an oscillating electric field\n",
        "\n",
        "$$ \\vec{E} = \\vec{E_{0}}\\cos(\\omega \\: t) $$ of electromagnetic radiation produces a pertubation described by the perturbed Hamiltonian, i.e. the most probable radiative transitions are called $\\textit{ electric dipole transitions}$, here denoted as $ H^{'}$\n",
        "\n",
        "$$H^{'}(t) = e \\: \\vec{r} \\cdot \\vec{E_{0}} \\cos(\\omega \\: t) $$\n",
        "\n",
        "This interaction is between the electric field component of the electromagnetic field with the operator describing the electric dipole moment of the electron-nucleus system. This corresponds to the electromagnetic energy of an electric dipole $(-e\\vec{r})$ in the electric field, where $\\vec{r}$ is the position of the electron with respect to the atom's centre of mass. This interaction is basically saying that when an atom interacts with an electromagnetic field, quantum states are no longer stationary states with definite energy, and transitions between states may take place in which light is either abosrbed or emitted.\n",
        "\n",
        "The total Hamiltonian has two parts,\n",
        "\n",
        "$$ \\hat{H} = H + H^{'}(t)$$\n",
        "\n",
        "That part of the Hamiltonian that depends on time, $H^{'}(t)$, describes the interaction with the oscillating electric field that perturbs the eigenfunctions of $H$.\n",
        "\n",
        "# Waves, Atom, and Energy\n",
        "\n",
        " An atom in a superposition of two states has the wavefunction $\\Psi$ with time-dependent coefficients $C_{n}$, and we assume the eigenstates of $H^{'}$ are to be some mixture of the eigenstates of $H$.\n",
        "\n",
        "$$\n",
        "\\newcommand{\\bra}[1]{\\langle#1|} % Bra\n",
        "\\newcommand{\\ket}[1]{|#1\\rangle} % Ket\n",
        "$$\n",
        "\n",
        "$$\\Psi(t) = \\Sigma_{n} \\: c_{n}(t) \\: \\ket{\\psi_{n}}e^{-E_{n}t/\\hbar}$$ \\\n",
        "\n",
        "For a two-states, this will be like this\n",
        "\n",
        "$$\\Psi(\\hat{r}, t) = c_{1}(t) \\: \\psi_{1}(\\hat{r}) \\: e^{-i E_{1} t/\\hbar} \\: +   c_{2}(t) \\: \\psi_{2}(\\hat{r}) \\: e^{-i E_{2} t/\\hbar} $$\n",
        "\n",
        "or in Dirac ket notation, changing $c_{1}(t)$ to simply $c_{1}$, and $\\omega_{1} = E_{1}/\\hbar$, and so on, we obtain:\n",
        "\n",
        "$$\n",
        "\\newcommand{\\bra}[1]{\\langle#1|} % Bra\n",
        "\\newcommand{\\ket}[1]{|#1\\rangle} % Ket\n",
        "$$\n",
        "\n",
        "\n",
        "$$ { \\displaystyle \\Psi(\\hat{r}, t) = c_{1} \\: \\ket{1} \\: e^{-i\\omega_{1}t} + c_{2} \\: \\ket{2} \\: e^{-i\\omega_{2}t} } $$\n",
        "\n",
        "Substitution of $\\hat{H}$ and $\\Psi$ into Schrodinger's equation,\n",
        "\n",
        "$$i\\hbar \\frac{\\partial \\Psi}{\\partial t}= \\hat{H}\\Psi$$\n",
        "\n",
        "and we get the differential equation for amplitude $c_{1}$, and $c_{2}$, we can read that the system is coupled such that the rate of change of amplitude $c_{1}$ is coupled with $c_{2}$, and so on. How strong the coupling between state 1 and state 2 is governed by $\\Omega$ (representing dipole interaction).We obtain two set of coupled equations for the amplitudes involved (two-level).\n",
        "\n",
        "$$i\\dot{c}_{1} = \\Omega \\cos(\\omega t) \\: e^{-i \\omega_{0}t} c_{2}$$\n",
        "\n",
        "$$i\\dot{c}_{2} = \\Omega \\cos(\\omega t) \\: e^{-i \\omega_{0}t} c_{1}$$\n",
        "\n",
        "where $\\Omega$ is defined in the next cell \\\n",
        "and the atomic resonance, $\\omega_{0} = (E_{2} - E_{1})/\\hbar$\n",
        "\n",
        "In order to sovle these last two differential equations for amplitudes, we need to intergrate $\\int$ from $t=0$, to $t=\\tau$ subject to initial population conditions that at time $t=0$, $c_{1}(0) = 1$, and $c_{2}(0) = 0$. Not only do we need to integrate these two equations but as shown below $\\Omega$ also involves an integral.\n",
        "\n",
        "\n",
        "\n",
        "So far, all this was easy to understand. We have a pertubation theory, an electric dipole interaction, an electric field, wavefunctions, a differential equation known as Schrodinger's equation, and taking dertivatives, computing integrals, Euler's indentities, and so on. The real breakthorugh was when Max Born was inspired by some previous work done by Albert Einstein on the photoelectric effect. Born's paper in 1926, applied that the probability density is proportional to square the amplitude of the system's wavefunction."
      ],
      "metadata": {
        "id": "6GM7jNqxiHy3"
      }
    },
    {
      "cell_type": "markdown",
      "source": [
        "# The Rabi Frequency $\\Omega$\n",
        "\n",
        "Names after physicist Isiodor Rabi. Quick notes on Rabi, he was a scientist who travelled to Europe in the early 1920s to learn the new quantum physics being presented at the time by professors like Max Born, Werner Heisenberg, Pascual Jordan, Niels Bohr, and others. One area of contribution from Rabi was to nuclear magnetic resonance, in this area he wrote about atoms with different nuclear spin states coupled with a varying magnetic field; this was extended to atoms coupled to electric fields, defined here as Rabi frequency. The Rabi frequency is a fundamental concept in quantum mechanics and quantum optics that describes the rate at which a two-level quantum system exchanges energy with an external electromagnetic field. In the context of the excitation of a quantum system, such as an atom or a qubit, the Rabi frequency $\\Omega$ determines how quickly the system oscillates between its two energy levels in response to an applied electromagnetic field.\n",
        "\n",
        "When a two-level quantum system is subjected to an external electromagnetic field, the Rabi frequency characterizes the strength of the interaction between the system and the field. Specifically, the Rabi frequency influences the probability of transition between the two energy levels of the system. A larger Rabi frequency leads to a faster transition between the energy levels, while a smaller Rabi frequency results in a slower transition.\n",
        "\n",
        "Mathematically, the Rabi frequency is related to the amplitude of the applied field and the transition matrix element between the energy levels of the system. In quantum mechanics, the time evolution of the system's state under the influence of the external field is described by the time-dependent Schrödinger equation, where the Rabi frequency appears as a key parameter governing the dynamics of the system.\n",
        "\n",
        "In experiments involving quantum systems, researchers can manipulate the Rabi frequency by adjusting the properties of the external electromagnetic field, such as its intensity and frequency. Control over the Rabi frequency enables precise engineering of quantum phenomena, such as coherent control of qubits in quantum computing and the generation of entangled states in quantum communication.\n",
        "\n",
        "Overall, the Rabi frequency plays a crucial role in understanding and manipulating the behavior of two-level quantum systems in response to external fields, making it a central concept in the study of quantum mechanics and quantum information processing.\n",
        "\n",
        "The Rabi frequency shown below describes the strength of the coupling between the atom and the electric field.:\n",
        "\n",
        "$$\n",
        "\\newcommand{\\bra}[1]{\\langle#1|} % Bra\n",
        "\\newcommand{\\ket}[1]{|#1\\rangle} % Ket\n",
        "$$\n",
        "\n",
        "$ { \\displaystyle \\Omega =  \\frac{ \\bra{1} e \\: \\hat{r} \\cdot \\hat{E}_{0} \\ket{2}}{\\hbar} } = \\displaystyle \\frac{e}{\\hbar}  \\int \\psi_{1}^{*}(r) \\: \\hat{r} \\cdot \\hat{E}_{0} \\: \\psi_{2}(r) \\: d^{3}(r)$"
      ],
      "metadata": {
        "id": "KZcRhwuiGOFT"
      }
    },
    {
      "cell_type": "markdown",
      "source": [
        "# By The Superposition Principle\n",
        "$ \\vert c_{2}(t) \\vert^{2}$, is the probability that measurement finds the system in the state $\\Psi_{n}$ at the time $(t)$. For most cases of interest, light frequency $\\omega$ is close to the atom frequency $\\omega_{0}$, meaning that $\\omega_{0} - \\omega \\ll \\omega_{0}$. In other words the detuning is small. In our case this, the probability of finding tha atom in the upper state at time $(t)$ is known as the $\\textbf{rotating wave approximation}$:\n",
        "\n",
        "$  \\vert c_{2}(t) \\vert^{2} = { \\displaystyle \\bigg| \\Omega \\frac{ \\sin[(\\omega_{0} - \\omega) \\: t/2] }{ \\omega_{0} - \\omega } \\bigg|^{2} } $\n",
        "\n",
        "or, in terms of the variable $ {\\displaystyle x = \\frac{(\\omega - \\omega_{0})t}{2} }$\n",
        "\n",
        "$ { \\displaystyle \\vert c_{2}(t) \\vert^{2} =  \\frac{1}{4} \\big| \\Omega \\big|^{2} \\: t^{2} \\: \\frac{\\sin^{2}(x)}{x^{2}} }   $\n",
        "\n",
        "The sine function $\\sin(x)/x$ has a maximum at $x=0$, and the first minimum occurs at $x=\\pi$ or $\\omega_{0} - \\omega = \\pm \\: { \\displaystyle \\frac{2\\pi}{t} }$, as illustrated in the plot shown below; the frequency spread decreases as the interaction time increases.\n",
        "\n",
        "Below is a clean and straightforward Python code to calculate the excitation probability function as described. The code provides the function `excitation_probability` which takes in Rabi frequency $ \\Omega$, detuning frequency $\\omega - \\omega_{0}$, and time $(t)$.\n",
        "\n",
        "\n"
      ],
      "metadata": {
        "id": "2_Vb766yBtzM"
      }
    },
    {
      "cell_type": "markdown",
      "source": [
        "# Import the fundamental packages for scientific computing with Python."
      ],
      "metadata": {
        "id": "1PYKTS8hBCtz"
      }
    },
    {
      "cell_type": "code",
      "execution_count": null,
      "metadata": {
        "id": "Sj3rnUT6AOMD"
      },
      "outputs": [],
      "source": [
        "import numpy as np\n",
        "import matplotlib.pyplot as plt"
      ]
    },
    {
      "cell_type": "markdown",
      "source": [
        "# Define a function `excitation_probability` to compute the probability $|c_{2}(t)|^2$"
      ],
      "metadata": {
        "id": "LwBgkbW6A9E1"
      }
    },
    {
      "cell_type": "code",
      "source": [
        "def excitation_probability(Omega, delta_omega, t):\n",
        "    \"\"\"\n",
        "    Calculate the excitation probability |c2(t)|^2 as a function of\n",
        "    Rabi frequency (Omega), detuning frequency (delta_omega = ω - ω0), and time (t).\n",
        "\n",
        "    Parameters:\n",
        "    Omega : float : Rabi frequency\n",
        "    delta_omega : float : detuning frequency (ω - ω0)\n",
        "    t : float : time\n",
        "\n",
        "    Returns:\n",
        "    float : excitation probability |c2(t)|^2\n",
        "    \"\"\"\n",
        "    x = (delta_omega * t) / 2\n",
        "    if x == 0:\n",
        "        return (Omega ** 2 * t ** 2) / 4\n",
        "    else:\n",
        "        return ((Omega ** 2 * t ** 2) / 4) * (np.sin(x) / x) ** 2"
      ],
      "metadata": {
        "id": "YikEHabNAi8O"
      },
      "execution_count": null,
      "outputs": []
    },
    {
      "cell_type": "markdown",
      "source": [
        "# Feel free to change parameters like `Omega`, `delta_omega_range`, and `t` as needed for different scenarios."
      ],
      "metadata": {
        "id": "pVf33LbfAoDi"
      }
    },
    {
      "cell_type": "code",
      "source": [
        "# Example usage:\n",
        "Omega = 1.0                      # Rabi frequency\n",
        "delta_omega_range = np.linspace(-10, 10, 400)  # Range of detuning frequencies (ω - ω0)\n",
        "t = 3.0                          # Interaction time"
      ],
      "metadata": {
        "id": "1auV7XsYAmmM"
      },
      "execution_count": null,
      "outputs": []
    },
    {
      "cell_type": "markdown",
      "source": [
        "# The frequency dependence of this function is plotted below."
      ],
      "metadata": {
        "id": "TFQiWI3QAdah"
      }
    },
    {
      "cell_type": "code",
      "source": [
        "excitation_probabilities = [excitation_probability(Omega, delta_omega, t) for delta_omega in delta_omega_range]"
      ],
      "metadata": {
        "id": "efXnRdSUUPy8"
      },
      "execution_count": null,
      "outputs": []
    },
    {
      "cell_type": "code",
      "source": [
        "# Plotting the results:\n",
        "plt.plot(delta_omega_range, excitation_probabilities)\n",
        "plt.title(\"Excitation Probability vs Detuning Frequency\")\n",
        "plt.xlabel(r'$\\omega - \\omega_0$')\n",
        "plt.ylabel(r'$|c_2(t)|^2$')\n",
        "plt.grid(True)\n",
        "plt.show()"
      ],
      "metadata": {
        "colab": {
          "base_uri": "https://localhost:8080/",
          "height": 472
        },
        "id": "9sEtL224RUZm",
        "outputId": "f25c04ff-9738-4dcd-b5b7-d5625ed9cdee"
      },
      "execution_count": null,
      "outputs": [
        {
          "output_type": "display_data",
          "data": {
            "text/plain": [
              "<Figure size 640x480 with 1 Axes>"
            ],
            "image/png": "[encoded data removed]"
          },
          "metadata": {}
        }
      ]
    },
    {
      "cell_type": "markdown",
      "source": [
        "# REF:\n",
        "\n",
        "- Foot, C. (2005). Atomic physics. Oxford University Press, USA.\n",
        "\n",
        "- I.I.Rabi, \"On the Process of Space Quantization\",\n",
        "Phys. Rev. 49, no.4, 324 (1936)\n",
        "\n",
        "- Liboff, R. (2003). Introductory Quantum Mechanics (4th Edition ed.). Boston: Addison-Wesley. Retrieved June 19, 2024, from https://www.amazon.com/Introductory-Quantum-Mechanics-Richard-Liboff/dp/0805387145\n",
        "\n",
        "- Pais, A. Max Born's statistical interpretation of quantum mechanics. United States. https://doi.org/10.1126/science.218.4578.1193\n"
      ],
      "metadata": {
        "id": "NwmI6-r_mAsF"
      }
    },
    {
      "cell_type": "code",
      "source": [],
      "metadata": {
        "id": "2g1ey7QVfyAQ"
      },
      "execution_count": null,
      "outputs": []
    }
  ]
}